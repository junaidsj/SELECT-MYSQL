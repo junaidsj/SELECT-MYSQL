{
 "cells": [
  {
   "cell_type": "code",
   "execution_count": null,
   "metadata": {},
   "outputs": [],
   "source": [
    "!pip install ipython-sql prettytable\n",
    "\n",
    "import prettytable\n",
    "\n",
    "prettytable.DEFAULT = 'DEFAULT'"
   ]
  },
  {
   "cell_type": "code",
   "execution_count": 79,
   "metadata": {},
   "outputs": [],
   "source": [
    "import csv\n",
    "import pandas as pd\n",
    "import sqlite3\n",
    "\n",
    "conn=sqlite3.connect('FinalDB.db')\n"
   ]
  },
  {
   "cell_type": "raw",
   "metadata": {},
   "source": [
    "%load_ext sql\n"
   ]
  },
  {
   "cell_type": "code",
   "execution_count": 112,
   "metadata": {},
   "outputs": [
    {
     "data": {
      "text/html": [
       "<div>\n",
       "<style scoped>\n",
       "    .dataframe tbody tr th:only-of-type {\n",
       "        vertical-align: middle;\n",
       "    }\n",
       "\n",
       "    .dataframe tbody tr th {\n",
       "        vertical-align: top;\n",
       "    }\n",
       "\n",
       "    .dataframe thead th {\n",
       "        text-align: right;\n",
       "    }\n",
       "</style>\n",
       "<table border=\"1\" class=\"dataframe\">\n",
       "  <thead>\n",
       "    <tr style=\"text-align: right;\">\n",
       "      <th></th>\n",
       "      <th>ID</th>\n",
       "      <th>CASE_NUMBER</th>\n",
       "      <th>DATE</th>\n",
       "      <th>BLOCK</th>\n",
       "      <th>IUCR</th>\n",
       "      <th>PRIMARY_TYPE</th>\n",
       "      <th>DESCRIPTION</th>\n",
       "      <th>LOCATION_DESCRIPTION</th>\n",
       "      <th>ARREST</th>\n",
       "      <th>DOMESTIC</th>\n",
       "      <th>...</th>\n",
       "      <th>DISTRICT</th>\n",
       "      <th>WARD</th>\n",
       "      <th>COMMUNITY_AREA_NUMBER</th>\n",
       "      <th>FBICODE</th>\n",
       "      <th>X_COORDINATE</th>\n",
       "      <th>Y_COORDINATE</th>\n",
       "      <th>YEAR</th>\n",
       "      <th>LATITUDE</th>\n",
       "      <th>LONGITUDE</th>\n",
       "      <th>LOCATION</th>\n",
       "    </tr>\n",
       "  </thead>\n",
       "  <tbody>\n",
       "    <tr>\n",
       "      <th>0</th>\n",
       "      <td>3512276</td>\n",
       "      <td>HK587712</td>\n",
       "      <td>2004-08-28</td>\n",
       "      <td>047XX S KEDZIE AVE</td>\n",
       "      <td>890</td>\n",
       "      <td>THEFT</td>\n",
       "      <td>FROM BUILDING</td>\n",
       "      <td>SMALL RETAIL STORE</td>\n",
       "      <td>False</td>\n",
       "      <td>False</td>\n",
       "      <td>...</td>\n",
       "      <td>9</td>\n",
       "      <td>14.0</td>\n",
       "      <td>58.0</td>\n",
       "      <td>6</td>\n",
       "      <td>1155838.0</td>\n",
       "      <td>1873050.0</td>\n",
       "      <td>2004</td>\n",
       "      <td>41.807440</td>\n",
       "      <td>-87.703956</td>\n",
       "      <td>(41.8074405, -87.703955849)</td>\n",
       "    </tr>\n",
       "    <tr>\n",
       "      <th>1</th>\n",
       "      <td>3406613</td>\n",
       "      <td>HK456306</td>\n",
       "      <td>2004-06-26</td>\n",
       "      <td>009XX N CENTRAL PARK AVE</td>\n",
       "      <td>820</td>\n",
       "      <td>THEFT</td>\n",
       "      <td>$500 AND UNDER</td>\n",
       "      <td>OTHER</td>\n",
       "      <td>False</td>\n",
       "      <td>False</td>\n",
       "      <td>...</td>\n",
       "      <td>11</td>\n",
       "      <td>27.0</td>\n",
       "      <td>23.0</td>\n",
       "      <td>6</td>\n",
       "      <td>1152206.0</td>\n",
       "      <td>1906127.0</td>\n",
       "      <td>2004</td>\n",
       "      <td>41.898280</td>\n",
       "      <td>-87.716406</td>\n",
       "      <td>(41.898279962, -87.716405505)</td>\n",
       "    </tr>\n",
       "    <tr>\n",
       "      <th>2</th>\n",
       "      <td>8002131</td>\n",
       "      <td>HT233595</td>\n",
       "      <td>2011-04-04</td>\n",
       "      <td>043XX S WABASH AVE</td>\n",
       "      <td>820</td>\n",
       "      <td>THEFT</td>\n",
       "      <td>$500 AND UNDER</td>\n",
       "      <td>NURSING HOME/RETIREMENT HOME</td>\n",
       "      <td>False</td>\n",
       "      <td>False</td>\n",
       "      <td>...</td>\n",
       "      <td>2</td>\n",
       "      <td>3.0</td>\n",
       "      <td>38.0</td>\n",
       "      <td>6</td>\n",
       "      <td>1177436.0</td>\n",
       "      <td>1876313.0</td>\n",
       "      <td>2011</td>\n",
       "      <td>41.815933</td>\n",
       "      <td>-87.624642</td>\n",
       "      <td>(41.815933131, -87.624642127)</td>\n",
       "    </tr>\n",
       "    <tr>\n",
       "      <th>3</th>\n",
       "      <td>7903289</td>\n",
       "      <td>HT133522</td>\n",
       "      <td>2010-12-30</td>\n",
       "      <td>083XX S KINGSTON AVE</td>\n",
       "      <td>840</td>\n",
       "      <td>THEFT</td>\n",
       "      <td>FINANCIAL ID THEFT: OVER $300</td>\n",
       "      <td>RESIDENCE</td>\n",
       "      <td>False</td>\n",
       "      <td>False</td>\n",
       "      <td>...</td>\n",
       "      <td>4</td>\n",
       "      <td>7.0</td>\n",
       "      <td>46.0</td>\n",
       "      <td>6</td>\n",
       "      <td>1194622.0</td>\n",
       "      <td>1850125.0</td>\n",
       "      <td>2010</td>\n",
       "      <td>41.743665</td>\n",
       "      <td>-87.562463</td>\n",
       "      <td>(41.743665322, -87.562462756)</td>\n",
       "    </tr>\n",
       "    <tr>\n",
       "      <th>4</th>\n",
       "      <td>10402076</td>\n",
       "      <td>HZ138551</td>\n",
       "      <td>2016-02-02</td>\n",
       "      <td>033XX W 66TH ST</td>\n",
       "      <td>820</td>\n",
       "      <td>THEFT</td>\n",
       "      <td>$500 AND UNDER</td>\n",
       "      <td>ALLEY</td>\n",
       "      <td>False</td>\n",
       "      <td>False</td>\n",
       "      <td>...</td>\n",
       "      <td>8</td>\n",
       "      <td>15.0</td>\n",
       "      <td>66.0</td>\n",
       "      <td>6</td>\n",
       "      <td>1155240.0</td>\n",
       "      <td>1860661.0</td>\n",
       "      <td>2016</td>\n",
       "      <td>41.773455</td>\n",
       "      <td>-87.706480</td>\n",
       "      <td>(41.773455295, -87.706480471)</td>\n",
       "    </tr>\n",
       "  </tbody>\n",
       "</table>\n",
       "<p>5 rows × 21 columns</p>\n",
       "</div>"
      ],
      "text/plain": [
       "         ID CASE_NUMBER        DATE                     BLOCK IUCR  \\\n",
       "0   3512276    HK587712  2004-08-28        047XX S KEDZIE AVE  890   \n",
       "1   3406613    HK456306  2004-06-26  009XX N CENTRAL PARK AVE  820   \n",
       "2   8002131    HT233595  2011-04-04        043XX S WABASH AVE  820   \n",
       "3   7903289    HT133522  2010-12-30      083XX S KINGSTON AVE  840   \n",
       "4  10402076    HZ138551  2016-02-02           033XX W 66TH ST  820   \n",
       "\n",
       "  PRIMARY_TYPE                    DESCRIPTION          LOCATION_DESCRIPTION  \\\n",
       "0        THEFT                  FROM BUILDING            SMALL RETAIL STORE   \n",
       "1        THEFT                 $500 AND UNDER                         OTHER   \n",
       "2        THEFT                 $500 AND UNDER  NURSING HOME/RETIREMENT HOME   \n",
       "3        THEFT  FINANCIAL ID THEFT: OVER $300                     RESIDENCE   \n",
       "4        THEFT                 $500 AND UNDER                         ALLEY   \n",
       "\n",
       "   ARREST  DOMESTIC  ...  DISTRICT  WARD  COMMUNITY_AREA_NUMBER  FBICODE  \\\n",
       "0   False     False  ...         9  14.0                   58.0        6   \n",
       "1   False     False  ...        11  27.0                   23.0        6   \n",
       "2   False     False  ...         2   3.0                   38.0        6   \n",
       "3   False     False  ...         4   7.0                   46.0        6   \n",
       "4   False     False  ...         8  15.0                   66.0        6   \n",
       "\n",
       "  X_COORDINATE  Y_COORDINATE  YEAR   LATITUDE  LONGITUDE  \\\n",
       "0    1155838.0     1873050.0  2004  41.807440 -87.703956   \n",
       "1    1152206.0     1906127.0  2004  41.898280 -87.716406   \n",
       "2    1177436.0     1876313.0  2011  41.815933 -87.624642   \n",
       "3    1194622.0     1850125.0  2010  41.743665 -87.562463   \n",
       "4    1155240.0     1860661.0  2016  41.773455 -87.706480   \n",
       "\n",
       "                        LOCATION  \n",
       "0    (41.8074405, -87.703955849)  \n",
       "1  (41.898279962, -87.716405505)  \n",
       "2  (41.815933131, -87.624642127)  \n",
       "3  (41.743665322, -87.562462756)  \n",
       "4  (41.773455295, -87.706480471)  \n",
       "\n",
       "[5 rows x 21 columns]"
      ]
     },
     "execution_count": 112,
     "metadata": {},
     "output_type": "execute_result"
    }
   ],
   "source": [
    "import pandas as pd\n",
    "\n",
    "url1 = 'https://cf-courses-data.s3.us.cloud-object-storage.appdomain.cloud/IBMDeveloperSkillsNetwork-DB0201EN-SkillsNetwork/labs/FinalModule_Coursera_V5/data/ChicagoPublicSchools.csv'\n",
    "url2 = 'https://cf-courses-data.s3.us.cloud-object-storage.appdomain.cloud/IBMDeveloperSkillsNetwork-DB0201EN-SkillsNetwork/labs/FinalModule_Coursera_V5/data/ChicagoCensusData.csv'\n",
    "url3 = 'https://cf-courses-data.s3.us.cloud-object-storage.appdomain.cloud/IBMDeveloperSkillsNetwork-DB0201EN-SkillsNetwork/labs/FinalModule_Coursera_V5/data/ChicagoCrimeData.csv'\n",
    "data1 = pd.read_csv(url1)\n",
    "data2 = pd.read_csv(url2)\n",
    "data3 = pd.read_csv(url3)\n",
    "data1.head()\n",
    "data2.head()\n",
    "data3.head()"
   ]
  },
  {
   "cell_type": "code",
   "execution_count": 113,
   "metadata": {},
   "outputs": [
    {
     "data": {
      "text/plain": [
       "533"
      ]
     },
     "execution_count": 113,
     "metadata": {},
     "output_type": "execute_result"
    }
   ],
   "source": [
    "con=sqlite3.connect('FinalDB.db')\n",
    "data1.to_sql('CHICAGO_PUBLIC_SCHOOLS', con, if_exists='replace', index=False)\n",
    "data2.to_sql('CENSUS_DATA', con, if_exists='replace', index=False)\n",
    "data3.to_sql('CHICAGO_CRIME_DATA', con, if_exists='replace', index=False)"
   ]
  },
  {
   "cell_type": "code",
   "execution_count": 115,
   "metadata": {
    "scrolled": true
   },
   "outputs": [
    {
     "name": "stdout",
     "output_type": "stream",
     "text": [
      "   total_crimes\n",
      "0           533\n"
     ]
    }
   ],
   "source": [
    "query = \"SELECT COUNT(*) AS total_crimes FROM CHICAGO_CRIME_DATA;\"\n",
    "result = pd.read_sql_query(query, con)\n",
    "print(result)\n"
   ]
  },
  {
   "cell_type": "code",
   "execution_count": 120,
   "metadata": {},
   "outputs": [
    {
     "name": "stdout",
     "output_type": "stream",
     "text": [
      "   COMMUNITY_AREA_NUMBER COMMUNITY_AREA_NAME  PER_CAPITA_INCOME\n",
      "0                   26.0  West Garfield Park              10934\n",
      "1                   30.0      South Lawndale              10402\n",
      "2                   37.0         Fuller Park              10432\n",
      "3                   54.0           Riverdale               8201\n"
     ]
    }
   ],
   "source": [
    "query = \"\"\"\n",
    "SELECT COMMUNITY_AREA_NUMBER, COMMUNITY_AREA_NAME, PER_CAPITA_INCOME \n",
    "FROM CENSUS_DATA \n",
    "WHERE PER_CAPITA_INCOME < 11000;\n",
    "\"\"\"\n",
    "result = pd.read_sql_query(query, con)\n",
    "print(result)\n"
   ]
  },
  {
   "cell_type": "code",
   "execution_count": 121,
   "metadata": {},
   "outputs": [
    {
     "name": "stdout",
     "output_type": "stream",
     "text": [
      "  CASE_NUMBER\n",
      "0    HL266884\n",
      "1    HK238408\n"
     ]
    }
   ],
   "source": [
    "query = \"\"\"\n",
    "SELECT CASE_NUMBER \n",
    "FROM CHICAGO_CRIME_DATA \n",
    "WHERE DESCRIPTION LIKE '%MINOR%' AND DESCRIPTION NOT LIKE '%CHILD%';\n",
    "\"\"\"\n",
    "result = pd.read_sql_query(query, con)\n",
    "print(result)\n"
   ]
  },
  {
   "cell_type": "code",
   "execution_count": 122,
   "metadata": {},
   "outputs": [
    {
     "name": "stdout",
     "output_type": "stream",
     "text": [
      "        ID CASE_NUMBER        DATE                 BLOCK  IUCR PRIMARY_TYPE  \\\n",
      "0  5276766    HN144152  2007-01-26  050XX W VAN BUREN ST  1792   KIDNAPPING   \n",
      "\n",
      "                DESCRIPTION LOCATION_DESCRIPTION  ARREST  DOMESTIC  ...  \\\n",
      "0  CHILD ABDUCTION/STRANGER               STREET       0         0  ...   \n",
      "\n",
      "   DISTRICT  WARD  COMMUNITY_AREA_NUMBER  FBICODE X_COORDINATE  Y_COORDINATE  \\\n",
      "0        15  29.0                   25.0       20    1143050.0     1897546.0   \n",
      "\n",
      "   YEAR   LATITUDE  LONGITUDE                       LOCATION  \n",
      "0  2007  41.874908 -87.750249  (41.874908413, -87.750249307)  \n",
      "\n",
      "[1 rows x 21 columns]\n"
     ]
    }
   ],
   "source": [
    "query = \"\"\"\n",
    "SELECT * \n",
    "FROM CHICAGO_CRIME_DATA \n",
    "WHERE PRIMARY_TYPE = 'KIDNAPPING' AND DESCRIPTION LIKE '%CHILD%';\n",
    "\"\"\"\n",
    "result = pd.read_sql_query(query, con)\n",
    "print(result)\n"
   ]
  },
  {
   "cell_type": "code",
   "execution_count": 123,
   "metadata": {},
   "outputs": [
    {
     "name": "stdout",
     "output_type": "stream",
     "text": [
      "             PRIMARY_TYPE\n",
      "0                 BATTERY\n",
      "1         CRIMINAL DAMAGE\n",
      "2               NARCOTICS\n",
      "3                 ASSAULT\n",
      "4       CRIMINAL TRESPASS\n",
      "5  PUBLIC PEACE VIOLATION\n"
     ]
    }
   ],
   "source": [
    "query = \"\"\"\n",
    "SELECT DISTINCT PRIMARY_TYPE \n",
    "FROM CHICAGO_CRIME_DATA \n",
    "WHERE LOCATION_DESCRIPTION LIKE '%SCHOOL%';\n",
    "\"\"\"\n",
    "result = pd.read_sql_query(query, con)\n",
    "print(result)\n"
   ]
  },
  {
   "cell_type": "code",
   "execution_count": 124,
   "metadata": {},
   "outputs": [
    {
     "name": "stdout",
     "output_type": "stream",
     "text": [
      "  School_Type  Average_Safety_Score\n",
      "0          ES             49.520384\n",
      "1          HS             49.623529\n",
      "2          MS             48.000000\n"
     ]
    }
   ],
   "source": [
    "query = \"\"\"\n",
    "SELECT \n",
    "    \"Elementary, Middle, or High School\" AS School_Type, \n",
    "    AVG(SAFETY_SCORE) AS Average_Safety_Score\n",
    "FROM \n",
    "    CHICAGO_PUBLIC_SCHOOLS\n",
    "GROUP BY \n",
    "    \"Elementary, Middle, or High School\";\n",
    "\"\"\"\n",
    "result = pd.read_sql_query(query, con)\n",
    "print(result)\n"
   ]
  },
  {
   "cell_type": "code",
   "execution_count": 125,
   "metadata": {},
   "outputs": [
    {
     "name": "stdout",
     "output_type": "stream",
     "text": [
      "   COMMUNITY_AREA_NUMBER COMMUNITY_AREA_NAME             POVERTY_PERCENT\n",
      "0                    1.0         Rogers Park  % HOUSEHOLDS BELOW POVERTY\n",
      "1                    2.0          West Ridge  % HOUSEHOLDS BELOW POVERTY\n",
      "2                    3.0              Uptown  % HOUSEHOLDS BELOW POVERTY\n",
      "3                    4.0      Lincoln Square  % HOUSEHOLDS BELOW POVERTY\n",
      "4                    5.0        North Center  % HOUSEHOLDS BELOW POVERTY\n"
     ]
    }
   ],
   "source": [
    "query = \"\"\"\n",
    "SELECT COMMUNITY_AREA_NUMBER, COMMUNITY_AREA_NAME, \n",
    "       \"% HOUSEHOLDS BELOW POVERTY\" AS POVERTY_PERCENT\n",
    "FROM CENSUS_DATA\n",
    "ORDER BY \"% HOUSEHOLDS BELOW POVERTY\" DESC\n",
    "LIMIT 5;\n",
    "\"\"\"\n",
    "result = pd.read_sql_query(query, con)\n",
    "print(result)\n"
   ]
  },
  {
   "cell_type": "code",
   "execution_count": 128,
   "metadata": {},
   "outputs": [
    {
     "name": "stdout",
     "output_type": "stream",
     "text": [
      "   COMMUNITY_AREA_NUMBER\n",
      "0                   25.0\n"
     ]
    }
   ],
   "source": [
    "query = \"\"\"\n",
    "SELECT COMMUNITY_AREA_NUMBER \n",
    "FROM CHICAGO_CRIME_DATA\n",
    "GROUP BY COMMUNITY_AREA_NUMBER\n",
    "ORDER BY COUNT(*) DESC\n",
    "LIMIT 1;\n",
    "\"\"\"\n",
    "result = pd.read_sql_query(query, con)\n",
    "print(result)\n"
   ]
  },
  {
   "cell_type": "code",
   "execution_count": 131,
   "metadata": {},
   "outputs": [
    {
     "name": "stdout",
     "output_type": "stream",
     "text": [
      "  COMMUNITY_AREA_NAME\n",
      "0           Riverdale\n"
     ]
    }
   ],
   "source": [
    "query='''\n",
    "SELECT COMMUNITY_AREA_NAME \n",
    "FROM CENSUS_DATA\n",
    "WHERE HARDSHIP_INDEX = (\n",
    "    SELECT MAX(HARDSHIP_INDEX) \n",
    "    FROM CENSUS_DATA\n",
    ");\n",
    "\n",
    "'''\n",
    "result=pd.read_sql_query(query,con)\n",
    "print(result)"
   ]
  },
  {
   "cell_type": "code",
   "execution_count": 132,
   "metadata": {},
   "outputs": [
    {
     "name": "stdout",
     "output_type": "stream",
     "text": [
      "  COMMUNITY_AREA_NAME\n",
      "0              Austin\n"
     ]
    }
   ],
   "source": [
    "query = \"\"\"\n",
    "SELECT COMMUNITY_AREA_NAME \n",
    "FROM CENSUS_DATA\n",
    "WHERE COMMUNITY_AREA_NUMBER = (\n",
    "    SELECT COMMUNITY_AREA_NUMBER \n",
    "    FROM CHICAGO_CRIME_DATA\n",
    "    GROUP BY COMMUNITY_AREA_NUMBER\n",
    "    ORDER BY COUNT(*) DESC\n",
    "    LIMIT 1\n",
    ");\n",
    "\"\"\"\n",
    "result = pd.read_sql_query(query, con)\n",
    "print(result)\n"
   ]
  }
 ],
 "metadata": {
  "kernelspec": {
   "display_name": "Python 3 (ipykernel)",
   "language": "python",
   "name": "python3"
  },
  "language_info": {
   "codemirror_mode": {
    "name": "ipython",
    "version": 3
   },
   "file_extension": ".py",
   "mimetype": "text/x-python",
   "name": "python",
   "nbconvert_exporter": "python",
   "pygments_lexer": "ipython3",
   "version": "3.12.7"
  },
  "prev_pub_hash": "1d4caa9dff548bba47d8f4339e735e64605120c41df87b27e2c5cffed5fd81c9"
 },
 "nbformat": 4,
 "nbformat_minor": 4
}
